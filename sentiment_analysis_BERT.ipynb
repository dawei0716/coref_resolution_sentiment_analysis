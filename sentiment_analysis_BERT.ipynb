{
 "cells": [
  {
   "cell_type": "markdown",
   "id": "4867d623",
   "metadata": {},
   "source": [
    "## Google Play (GP) Reviews Sentiment Analysis Using BERT\n",
    "\n",
    "In this notebook, I compare two models:\n",
    "- BERT fine-tuned with GP reviews\n",
    "- BERT fine-tuned with GP reviews with coreferences resolved (CR). (Code for resolving coreference is found in resolving_coreference.ipynb)\n",
    "\n",
    "Question: Coreference resolution is a difficult task in NLP that has a lot of room to be improved. \n",
    "Can modern CR models improve the performance of NLP tasks (sentiment analysis in this case) or will the errors cascade?"
   ]
  },
  {
   "cell_type": "code",
   "execution_count": 46,
   "id": "f44e1210",
   "metadata": {},
   "outputs": [],
   "source": [
    "import transformers\n",
    "from transformers import BertModel, BertTokenizer, AdamW, get_linear_schedule_with_warmup\n",
    "import torch\n",
    "import numpy as np\n",
    "import pandas as pd\n",
    "import seaborn as sns\n",
    "from pylab import rcParams\n",
    "import matplotlib.pyplot as plt\n",
    "from matplotlib import rc\n",
    "from sklearn.model_selection import train_test_split\n",
    "from sklearn.metrics import confusion_matrix, classification_report\n",
    "from collections import defaultdict\n",
    "from textwrap import wrap\n",
    "from torch import nn, optim\n",
    "from torch.utils.data import Dataset, DataLoader\n",
    "import torch.nn.functional as F\n",
    "import warnings\n",
    "warnings.filterwarnings('ignore')\n",
    "warnings.simplefilter('ignore')\n",
    "%matplotlib inline\n",
    "RANDOM_SEED = 42\n",
    "np.random.seed(RANDOM_SEED)\n",
    "torch.manual_seed(RANDOM_SEED)\n",
    "device = torch.device(\"cuda:0\" if torch.cuda.is_available() else \"cpu\")"
   ]
  },
  {
   "cell_type": "markdown",
   "id": "c7e7ee1c",
   "metadata": {},
   "source": [
    "# Dataset\n",
    "\n",
    "the following csv dataset contains original Google Play reviews, as well as CF resolved reviews. Please see resolving_coreference.ipynb for detail\n"
   ]
  },
  {
   "cell_type": "code",
   "execution_count": 2,
   "id": "66ba8449",
   "metadata": {},
   "outputs": [],
   "source": [
    "df = pd.read_csv(\"resolved_reviews.csv\")"
   ]
  },
  {
   "cell_type": "markdown",
   "id": "4d528fba",
   "metadata": {},
   "source": [
    "1-5 star ratings are converted into three classes: Negative (1-2) Neutral (3) Positive (4-5)"
   ]
  },
  {
   "cell_type": "code",
   "execution_count": 3,
   "id": "9fb961a3",
   "metadata": {},
   "outputs": [],
   "source": [
    "def to_sentiment(rating):\n",
    "    rating = int(rating)\n",
    "    if rating <= 2:\n",
    "        return 0\n",
    "    elif rating == 3:\n",
    "        return 1\n",
    "    else: \n",
    "        return 2\n",
    "\n",
    "df['sentiment'] = df.score.apply(to_sentiment)"
   ]
  },
  {
   "cell_type": "markdown",
   "id": "64769f9e",
   "metadata": {},
   "source": [
    "Distribution of the dataset"
   ]
  },
  {
   "cell_type": "code",
   "execution_count": 28,
   "id": "4278682a",
   "metadata": {},
   "outputs": [
    {
     "data": {
      "image/png": "[encoded data removed]",
      "text/plain": [
       "<Figure size 432x288 with 1 Axes>"
      ]
     },
     "metadata": {
      "needs_background": "light"
     },
     "output_type": "display_data"
    }
   ],
   "source": [
    "classes = ['negative', 'neutral', 'positive']\n",
    "ax = sns.countplot(df.sentiment)\n",
    "plt.xlabel('sentiment')\n",
    "ax.set_xticklabels(classes);"
   ]
  },
  {
   "cell_type": "code",
   "execution_count": 8,
   "id": "858020f3",
   "metadata": {},
   "outputs": [
    {
     "name": "stdout",
     "output_type": "stream",
     "text": [
      "<class 'pandas.core.frame.DataFrame'>\n",
      "RangeIndex: 15746 entries, 0 to 15745\n",
      "Data columns (total 3 columns):\n",
      " #   Column                  Non-Null Count  Dtype \n",
      "---  ------                  --------------  ----- \n",
      " 0   content                 15746 non-null  object\n",
      " 1   coref_resolved_content  15746 non-null  object\n",
      " 2   sentiment               15746 non-null  int64 \n",
      "dtypes: int64(1), object(2)\n",
      "memory usage: 369.2+ KB\n"
     ]
    }
   ],
   "source": [
    "df.drop(df.columns.difference(['content','coref_resolved_content', 'sentiment']), 1, inplace=True)\n",
    "df.info()"
   ]
  },
  {
   "cell_type": "code",
   "execution_count": 9,
   "id": "cbbd98bf",
   "metadata": {},
   "outputs": [],
   "source": [
    "tokenizer = BertTokenizer.from_pretrained('bert-base-cased')"
   ]
  },
  {
   "cell_type": "code",
   "execution_count": 10,
   "id": "32e65950",
   "metadata": {},
   "outputs": [],
   "source": [
    "MAX_LEN = 160"
   ]
  },
  {
   "cell_type": "code",
   "execution_count": 11,
   "id": "93bf5a37",
   "metadata": {},
   "outputs": [],
   "source": [
    "class GPReviewDataset(Dataset):\n",
    "\n",
    "    def __init__(self, reviews, targets, tokenizer, max_len):\n",
    "        self.reviews = reviews\n",
    "        self.targets = targets\n",
    "        self.tokenizer = tokenizer\n",
    "        self.max_len = max_len\n",
    "\n",
    "    def __len__(self):\n",
    "        return len(self.reviews)\n",
    "\n",
    "    def __getitem__(self, item):\n",
    "        review = str(self.reviews[item])\n",
    "        target = self.targets[item]\n",
    "\n",
    "        encoding = self.tokenizer.encode_plus(\n",
    "        review,\n",
    "        add_special_tokens=True,\n",
    "        max_length=self.max_len,\n",
    "        return_token_type_ids=False,\n",
    "        pad_to_max_length=True,\n",
    "        return_attention_mask=True,\n",
    "        return_tensors='pt',\n",
    "        )\n",
    "\n",
    "        return {\n",
    "            'review_text': review,\n",
    "            'input_ids': encoding['input_ids'].flatten(),\n",
    "            'attention_mask': encoding['attention_mask'].flatten(),\n",
    "            'targets': torch.tensor(target, dtype=torch.long)\n",
    "        }"
   ]
  },
  {
   "cell_type": "code",
   "execution_count": 12,
   "id": "7225f473",
   "metadata": {},
   "outputs": [],
   "source": [
    "df_train, df_test = train_test_split(df, test_size=0.1, random_state=RANDOM_SEED)\n",
    "df_val, df_test = train_test_split(df_test, test_size=0.5, random_state=RANDOM_SEED)"
   ]
  },
  {
   "cell_type": "markdown",
   "id": "1809b6f1",
   "metadata": {},
   "source": [
    "Dataloader for original reviews"
   ]
  },
  {
   "cell_type": "code",
   "execution_count": 32,
   "id": "08358007",
   "metadata": {},
   "outputs": [],
   "source": [
    "def create_data_loader(df, tokenizer, max_len, batch_size):\n",
    "    ds = GPReviewDataset(\n",
    "        reviews=df.content.to_numpy(),\n",
    "        targets=df.sentiment.to_numpy(),\n",
    "        tokenizer=tokenizer,\n",
    "        max_len=max_len\n",
    "    )\n",
    "\n",
    "    return DataLoader(\n",
    "        ds,\n",
    "        batch_size=batch_size,\n",
    "        num_workers=4\n",
    "    )\n",
    "\n",
    "BATCH_SIZE = 16\n",
    "train_data_loader = create_data_loader(df_train, tokenizer, MAX_LEN, BATCH_SIZE)\n",
    "val_data_loader = create_data_loader(df_val, tokenizer, MAX_LEN, BATCH_SIZE)\n",
    "test_data_loader = create_data_loader(df_test, tokenizer, MAX_LEN, BATCH_SIZE)"
   ]
  },
  {
   "cell_type": "markdown",
   "id": "9c3b28f4",
   "metadata": {},
   "source": [
    "Dataloader for CR reviews"
   ]
  },
  {
   "cell_type": "code",
   "execution_count": 13,
   "id": "67ebc7f7",
   "metadata": {},
   "outputs": [],
   "source": [
    "def create_data_loader2(df, tokenizer, max_len, batch_size):\n",
    "    ds = GPReviewDataset(\n",
    "        reviews=df.coref_resolved_content.to_numpy(),\n",
    "        targets=df.sentiment.to_numpy(),\n",
    "        tokenizer=tokenizer,\n",
    "        max_len=max_len\n",
    "    )\n",
    "    return DataLoader(\n",
    "        ds,\n",
    "        batch_size=batch_size,\n",
    "        num_workers=4\n",
    "    )\n",
    "BATCH_SIZE = 16\n",
    "\n",
    "train_data_loader2 = create_data_loader2(df_train, tokenizer, MAX_LEN, BATCH_SIZE)\n",
    "val_data_loader2 = create_data_loader2(df_val, tokenizer, MAX_LEN, BATCH_SIZE)\n",
    "test_data_loader2 = create_data_loader2(df_test, tokenizer, MAX_LEN, BATCH_SIZE)"
   ]
  },
  {
   "cell_type": "markdown",
   "id": "fdb949fe",
   "metadata": {},
   "source": [
    "## BERT MODEL"
   ]
  },
  {
   "cell_type": "code",
   "execution_count": 14,
   "id": "e35cce63",
   "metadata": {},
   "outputs": [
    {
     "name": "stderr",
     "output_type": "stream",
     "text": [
      "Some weights of the model checkpoint at bert-base-cased were not used when initializing BertModel: ['cls.predictions.transform.dense.weight', 'cls.predictions.transform.LayerNorm.weight', 'cls.predictions.bias', 'cls.seq_relationship.weight', 'cls.predictions.transform.dense.bias', 'cls.predictions.decoder.weight', 'cls.predictions.transform.LayerNorm.bias', 'cls.seq_relationship.bias']\n",
      "- This IS expected if you are initializing BertModel from the checkpoint of a model trained on another task or with another architecture (e.g. initializing a BertForSequenceClassification model from a BertForPreTraining model).\n",
      "- This IS NOT expected if you are initializing BertModel from the checkpoint of a model that you expect to be exactly identical (initializing a BertForSequenceClassification model from a BertForSequenceClassification model).\n"
     ]
    }
   ],
   "source": [
    "bert_model = BertModel.from_pretrained('bert-base-cased', return_dict=False)"
   ]
  },
  {
   "cell_type": "code",
   "execution_count": 15,
   "id": "4cb16676",
   "metadata": {},
   "outputs": [],
   "source": [
    "class SentimentClassifier(nn.Module):\n",
    "\n",
    "    def __init__(self, n_classes):\n",
    "        super(SentimentClassifier, self).__init__()\n",
    "        self.bert = BertModel.from_pretrained('bert-base-cased', return_dict=False)\n",
    "        self.drop = nn.Dropout(p=0.3)\n",
    "        self.out = nn.Linear(self.bert.config.hidden_size, n_classes)\n",
    "\n",
    "    def forward(self, input_ids, attention_mask):\n",
    "        _, pooled_output = self.bert(\n",
    "          input_ids=input_ids,\n",
    "          attention_mask=attention_mask\n",
    "        )\n",
    "        output = self.drop(pooled_output)\n",
    "        return self.out(output)"
   ]
  },
  {
   "cell_type": "code",
   "execution_count": 29,
   "id": "f622dd76",
   "metadata": {},
   "outputs": [
    {
     "name": "stderr",
     "output_type": "stream",
     "text": [
      "Some weights of the model checkpoint at bert-base-cased were not used when initializing BertModel: ['cls.predictions.transform.dense.weight', 'cls.predictions.transform.LayerNorm.weight', 'cls.predictions.bias', 'cls.seq_relationship.weight', 'cls.predictions.transform.dense.bias', 'cls.predictions.decoder.weight', 'cls.predictions.transform.LayerNorm.bias', 'cls.seq_relationship.bias']\n",
      "- This IS expected if you are initializing BertModel from the checkpoint of a model trained on another task or with another architecture (e.g. initializing a BertForSequenceClassification model from a BertForPreTraining model).\n",
      "- This IS NOT expected if you are initializing BertModel from the checkpoint of a model that you expect to be exactly identical (initializing a BertForSequenceClassification model from a BertForSequenceClassification model).\n"
     ]
    }
   ],
   "source": [
    "model = SentimentClassifier(len(classes))\n",
    "model = model.to(device)"
   ]
  },
  {
   "cell_type": "markdown",
   "id": "2e2b4226",
   "metadata": {},
   "source": [
    "## NOTE: I trained and saved the model on google colab because it is too slow on jupyter."
   ]
  },
  {
   "cell_type": "code",
   "execution_count": 88,
   "id": "fd018d29",
   "metadata": {},
   "outputs": [],
   "source": [
    "EPOCHS = 10\n",
    "\n",
    "optimizer = AdamW(model.parameters(), lr=2e-5, correct_bias=False)\n",
    "#HERE, change train_data_loader to train_data_loader2 if you want to train with the CR reviews. \n",
    "total_steps = len(train_data_loader) * EPOCHS \n",
    "\n",
    "scheduler = get_linear_schedule_with_warmup(\n",
    "  optimizer,\n",
    "  num_warmup_steps=0,\n",
    "  num_training_steps=total_steps\n",
    ")\n",
    "\n",
    "loss_fn = nn.CrossEntropyLoss().to(device)"
   ]
  },
  {
   "cell_type": "code",
   "execution_count": 25,
   "id": "0559fe01",
   "metadata": {},
   "outputs": [],
   "source": [
    "def train_epoch(\n",
    "  model, \n",
    "  data_loader, \n",
    "  loss_fn, \n",
    "  optimizer, \n",
    "  device, \n",
    "  scheduler, \n",
    "  n_examples\n",
    "):\n",
    "    model = model.train()\n",
    "\n",
    "    losses = []\n",
    "    correct_predictions = 0\n",
    "\n",
    "    for d in data_loader:\n",
    "        input_ids = d[\"input_ids\"].to(device)\n",
    "        attention_mask = d[\"attention_mask\"].to(device)\n",
    "        targets = d[\"targets\"].to(device)\n",
    "\n",
    "        outputs = model(\n",
    "          input_ids=input_ids,\n",
    "          attention_mask=attention_mask\n",
    "    )\n",
    "\n",
    "        _, preds = torch.max(outputs, dim=1)\n",
    "        loss = loss_fn(outputs, targets)\n",
    "\n",
    "        correct_predictions += torch.sum(preds == targets)\n",
    "        losses.append(loss.item())\n",
    "\n",
    "        loss.backward()\n",
    "        nn.utils.clip_grad_norm_(model.parameters(), max_norm=1.0)\n",
    "        optimizer.step()\n",
    "        scheduler.step()\n",
    "        optimizer.zero_grad()\n",
    "\n",
    "    return correct_predictions.double() / n_examples, np.mean(losses)"
   ]
  },
  {
   "cell_type": "code",
   "execution_count": 26,
   "id": "c94a1ac1",
   "metadata": {},
   "outputs": [],
   "source": [
    "def eval_model(model, data_loader, loss_fn, device, n_examples):\n",
    "    model = model.eval()\n",
    "\n",
    "    losses = []\n",
    "    correct_predictions = 0\n",
    "\n",
    "    with torch.no_grad():\n",
    "        for d in data_loader:\n",
    "            input_ids = d[\"input_ids\"].to(device)\n",
    "            attention_mask = d[\"attention_mask\"].to(device)\n",
    "            targets = d[\"targets\"].to(device)\n",
    "\n",
    "            outputs = model(\n",
    "            input_ids=input_ids,\n",
    "            attention_mask=attention_mask\n",
    "            )\n",
    "            _, preds = torch.max(outputs, dim=1)\n",
    "\n",
    "            loss = loss_fn(outputs, targets)\n",
    "\n",
    "            correct_predictions += torch.sum(preds == targets)\n",
    "            losses.append(loss.item())\n",
    "\n",
    "    return correct_predictions.double() / n_examples, np.mean(losses)"
   ]
  },
  {
   "cell_type": "markdown",
   "id": "63fdc4d8",
   "metadata": {},
   "source": []
  },
  {
   "cell_type": "code",
   "execution_count": null,
   "id": "14ed640e",
   "metadata": {},
   "outputs": [],
   "source": [
    "%%time\n",
    "\n",
    "history = defaultdict(list)\n",
    "best_accuracy = 0\n",
    "\n",
    "for epoch in range(EPOCHS):\n",
    "\n",
    "    print(f'Epoch {epoch + 1}/{EPOCHS}')\n",
    "    print('-' * 10)\n",
    "\n",
    "    train_acc, train_loss = train_epoch(\n",
    "        model,\n",
    "        train_data_loader,    \n",
    "        loss_fn, \n",
    "        optimizer, \n",
    "        device, \n",
    "        scheduler, \n",
    "        len(df_train)\n",
    "    )\n",
    "\n",
    "    print(f'Train loss {train_loss} accuracy {train_acc}')\n",
    "\n",
    "    val_acc, val_loss = eval_model(\n",
    "        model,\n",
    "        val_data_loader,\n",
    "        loss_fn, \n",
    "        device, \n",
    "        len(df_val)\n",
    "    )\n",
    "\n",
    "    print(f'Val   loss {val_loss} accuracy {val_acc}')\n",
    "    print()\n",
    "\n",
    "    history['train_acc'].append(train_acc)\n",
    "    history['train_loss'].append(train_loss)\n",
    "    history['val_acc'].append(val_acc)\n",
    "    history['val_loss'].append(val_loss)\n",
    "\n",
    "    if val_acc > best_accuracy:\n",
    "        torch.save(model.state_dict(), 'base_best_model_state.bin') #'coref_best_model_state.bin' \n",
    "        best_accuracy = val_acc"
   ]
  },
  {
   "cell_type": "markdown",
   "id": "eeaed88a",
   "metadata": {},
   "source": [
    "## Saved models\n",
    "You can just load the models that I trained and saved.\n",
    "- base_best_model_state.bin --> trained with original reviews\n",
    "- coref_best_model_state.bin --> trained with CR reviews"
   ]
  },
  {
   "cell_type": "code",
   "execution_count": 89,
   "id": "18d9b83f",
   "metadata": {
    "scrolled": true
   },
   "outputs": [
    {
     "name": "stderr",
     "output_type": "stream",
     "text": [
      "Some weights of the model checkpoint at bert-base-cased were not used when initializing BertModel: ['cls.predictions.transform.dense.weight', 'cls.predictions.transform.LayerNorm.weight', 'cls.predictions.bias', 'cls.seq_relationship.weight', 'cls.predictions.transform.dense.bias', 'cls.predictions.decoder.weight', 'cls.predictions.transform.LayerNorm.bias', 'cls.seq_relationship.bias']\n",
      "- This IS expected if you are initializing BertModel from the checkpoint of a model trained on another task or with another architecture (e.g. initializing a BertForSequenceClassification model from a BertForPreTraining model).\n",
      "- This IS NOT expected if you are initializing BertModel from the checkpoint of a model that you expect to be exactly identical (initializing a BertForSequenceClassification model from a BertForSequenceClassification model).\n"
     ]
    }
   ],
   "source": [
    "model = SentimentClassifier(len(classes))\n",
    "model.load_state_dict(torch.load('base_best_model_state.bin', map_location ='cpu'))\n",
    "model = model.to(device)"
   ]
  },
  {
   "cell_type": "code",
   "execution_count": 33,
   "id": "1b7ab5be",
   "metadata": {},
   "outputs": [
    {
     "name": "stderr",
     "output_type": "stream",
     "text": [
      "[W ParallelNative.cpp:212] Warning: Cannot set number of intraop threads after parallel work has started or after set_num_threads call when using native parallel backend (function set_num_threads)\n",
      "[W ParallelNative.cpp:212] Warning: Cannot set number of intraop threads after parallel work has started or after set_num_threads call when using native parallel backend (function set_num_threads)\n",
      "Truncation was not explicitly activated but `max_length` is provided a specific value, please use `truncation=True` to explicitly truncate examples to max length. Defaulting to 'longest_first' truncation strategy. If you encode pairs of sequences (GLUE-style) with the tokenizer you can select this strategy more precisely by providing a specific strategy to `truncation`.\n",
      "Truncation was not explicitly activated but `max_length` is provided a specific value, please use `truncation=True` to explicitly truncate examples to max length. Defaulting to 'longest_first' truncation strategy. If you encode pairs of sequences (GLUE-style) with the tokenizer you can select this strategy more precisely by providing a specific strategy to `truncation`.\n",
      "Truncation was not explicitly activated but `max_length` is provided a specific value, please use `truncation=True` to explicitly truncate examples to max length. Defaulting to 'longest_first' truncation strategy. If you encode pairs of sequences (GLUE-style) with the tokenizer you can select this strategy more precisely by providing a specific strategy to `truncation`.\n",
      "Truncation was not explicitly activated but `max_length` is provided a specific value, please use `truncation=True` to explicitly truncate examples to max length. Defaulting to 'longest_first' truncation strategy. If you encode pairs of sequences (GLUE-style) with the tokenizer you can select this strategy more precisely by providing a specific strategy to `truncation`.\n",
      "[W ParallelNative.cpp:212] Warning: Cannot set number of intraop threads after parallel work has started or after set_num_threads call when using native parallel backend (function set_num_threads)\n",
      "[W ParallelNative.cpp:212] Warning: Cannot set number of intraop threads after parallel work has started or after set_num_threads call when using native parallel backend (function set_num_threads)\n"
     ]
    },
    {
     "data": {
      "text/plain": [
       "0.8743654822335025"
      ]
     },
     "execution_count": 33,
     "metadata": {},
     "output_type": "execute_result"
    }
   ],
   "source": [
    "test_acc, _ = eval_model(\n",
    "  model,\n",
    "  test_data_loader,\n",
    "  loss_fn,\n",
    "  device,\n",
    "  len(df_test)\n",
    ")\n",
    "test_acc.item()"
   ]
  },
  {
   "cell_type": "markdown",
   "id": "ba77e31f",
   "metadata": {},
   "source": []
  },
  {
   "cell_type": "code",
   "execution_count": null,
   "id": "2a447c4b",
   "metadata": {},
   "outputs": [],
   "source": []
  },
  {
   "cell_type": "code",
   "execution_count": null,
   "id": "9c6ee0ff",
   "metadata": {},
   "outputs": [],
   "source": []
  },
  {
   "cell_type": "code",
   "execution_count": null,
   "id": "45e41d32",
   "metadata": {},
   "outputs": [],
   "source": []
  },
  {
   "cell_type": "code",
   "execution_count": 35,
   "id": "ea17c3a9",
   "metadata": {},
   "outputs": [
    {
     "name": "stderr",
     "output_type": "stream",
     "text": [
      "Some weights of the model checkpoint at bert-base-cased were not used when initializing BertModel: ['cls.predictions.transform.dense.weight', 'cls.predictions.transform.LayerNorm.weight', 'cls.predictions.bias', 'cls.seq_relationship.weight', 'cls.predictions.transform.dense.bias', 'cls.predictions.decoder.weight', 'cls.predictions.transform.LayerNorm.bias', 'cls.seq_relationship.bias']\n",
      "- This IS expected if you are initializing BertModel from the checkpoint of a model trained on another task or with another architecture (e.g. initializing a BertForSequenceClassification model from a BertForPreTraining model).\n",
      "- This IS NOT expected if you are initializing BertModel from the checkpoint of a model that you expect to be exactly identical (initializing a BertForSequenceClassification model from a BertForSequenceClassification model).\n"
     ]
    }
   ],
   "source": [
    "model2 = SentimentClassifier(len(classes))\n",
    "model2.load_state_dict(torch.load('coref_best_model_state.bin', map_location ='cpu'))\n",
    "model2 = model2.to(device)"
   ]
  },
  {
   "cell_type": "code",
   "execution_count": 36,
   "id": "ac883a46",
   "metadata": {},
   "outputs": [
    {
     "name": "stderr",
     "output_type": "stream",
     "text": [
      "[W ParallelNative.cpp:212] Warning: Cannot set number of intraop threads after parallel work has started or after set_num_threads call when using native parallel backend (function set_num_threads)\n",
      "[W ParallelNative.cpp:212] Warning: Cannot set number of intraop threads after parallel work has started or after set_num_threads call when using native parallel backend (function set_num_threads)\n",
      "Truncation was not explicitly activated but `max_length` is provided a specific value, please use `truncation=True` to explicitly truncate examples to max length. Defaulting to 'longest_first' truncation strategy. If you encode pairs of sequences (GLUE-style) with the tokenizer you can select this strategy more precisely by providing a specific strategy to `truncation`.\n",
      "Truncation was not explicitly activated but `max_length` is provided a specific value, please use `truncation=True` to explicitly truncate examples to max length. Defaulting to 'longest_first' truncation strategy. If you encode pairs of sequences (GLUE-style) with the tokenizer you can select this strategy more precisely by providing a specific strategy to `truncation`.\n",
      "Truncation was not explicitly activated but `max_length` is provided a specific value, please use `truncation=True` to explicitly truncate examples to max length. Defaulting to 'longest_first' truncation strategy. If you encode pairs of sequences (GLUE-style) with the tokenizer you can select this strategy more precisely by providing a specific strategy to `truncation`.\n",
      "Truncation was not explicitly activated but `max_length` is provided a specific value, please use `truncation=True` to explicitly truncate examples to max length. Defaulting to 'longest_first' truncation strategy. If you encode pairs of sequences (GLUE-style) with the tokenizer you can select this strategy more precisely by providing a specific strategy to `truncation`.\n",
      "[W ParallelNative.cpp:212] Warning: Cannot set number of intraop threads after parallel work has started or after set_num_threads call when using native parallel backend (function set_num_threads)\n",
      "[W ParallelNative.cpp:212] Warning: Cannot set number of intraop threads after parallel work has started or after set_num_threads call when using native parallel backend (function set_num_threads)\n"
     ]
    },
    {
     "data": {
      "text/plain": [
       "0.8946700507614214"
      ]
     },
     "execution_count": 36,
     "metadata": {},
     "output_type": "execute_result"
    }
   ],
   "source": [
    "test_acc, _ = eval_model(\n",
    "  model2,\n",
    "  test_data_loader2,\n",
    "  loss_fn,\n",
    "  device,\n",
    "  len(df_test)\n",
    ")\n",
    "\n",
    "test_acc.item()"
   ]
  },
  {
   "cell_type": "markdown",
   "id": "6e55d126",
   "metadata": {},
   "source": [
    "## Evaluation\n",
    "The raw accuracy of the C resolved model is 2% higher than the model built with original dataset. \n",
    "Let's take a deeper look. "
   ]
  },
  {
   "cell_type": "code",
   "execution_count": 52,
   "id": "2a5a158e",
   "metadata": {},
   "outputs": [],
   "source": [
    "def get_predictions(model, data_loader):\n",
    "    model = model.eval()\n",
    "\n",
    "    review_texts = []\n",
    "    predictions = []\n",
    "    prediction_probs = []\n",
    "    real_values = []\n",
    "\n",
    "    with torch.no_grad():\n",
    "        for d in data_loader:\n",
    "\n",
    "            texts = d[\"review_text\"]\n",
    "            input_ids = d[\"input_ids\"].to(device)\n",
    "            attention_mask = d[\"attention_mask\"].to(device)\n",
    "            targets = d[\"targets\"].to(device)\n",
    "\n",
    "            outputs = model(\n",
    "                input_ids=input_ids,\n",
    "                attention_mask=attention_mask\n",
    "            )\n",
    "            _, preds = torch.max(outputs, dim=1)\n",
    "\n",
    "            probs = F.softmax(outputs, dim=1)\n",
    "\n",
    "            review_texts.extend(texts)\n",
    "            predictions.extend(preds)\n",
    "            prediction_probs.extend(probs)\n",
    "            real_values.extend(targets)\n",
    "\n",
    "    predictions = torch.stack(predictions).cpu()\n",
    "    prediction_probs = torch.stack(prediction_probs).cpu()\n",
    "    real_values = torch.stack(real_values).cpu()\n",
    "    return review_texts, predictions, prediction_probs, real_values\n"
   ]
  },
  {
   "cell_type": "code",
   "execution_count": 57,
   "id": "3731b199",
   "metadata": {},
   "outputs": [
    {
     "name": "stderr",
     "output_type": "stream",
     "text": [
      "Truncation was not explicitly activated but `max_length` is provided a specific value, please use `truncation=True` to explicitly truncate examples to max length. Defaulting to 'longest_first' truncation strategy. If you encode pairs of sequences (GLUE-style) with the tokenizer you can select this strategy more precisely by providing a specific strategy to `truncation`.\n",
      "Truncation was not explicitly activated but `max_length` is provided a specific value, please use `truncation=True` to explicitly truncate examples to max length. Defaulting to 'longest_first' truncation strategy. If you encode pairs of sequences (GLUE-style) with the tokenizer you can select this strategy more precisely by providing a specific strategy to `truncation`.\n",
      "Truncation was not explicitly activated but `max_length` is provided a specific value, please use `truncation=True` to explicitly truncate examples to max length. Defaulting to 'longest_first' truncation strategy. If you encode pairs of sequences (GLUE-style) with the tokenizer you can select this strategy more precisely by providing a specific strategy to `truncation`.\n",
      "Truncation was not explicitly activated but `max_length` is provided a specific value, please use `truncation=True` to explicitly truncate examples to max length. Defaulting to 'longest_first' truncation strategy. If you encode pairs of sequences (GLUE-style) with the tokenizer you can select this strategy more precisely by providing a specific strategy to `truncation`.\n",
      "[W ParallelNative.cpp:212] Warning: Cannot set number of intraop threads after parallel work has started or after set_num_threads call when using native parallel backend (function set_num_threads)\n",
      "[W ParallelNative.cpp:212] Warning: Cannot set number of intraop threads after parallel work has started or after set_num_threads call when using native parallel backend (function set_num_threads)\n",
      "[W ParallelNative.cpp:212] Warning: Cannot set number of intraop threads after parallel work has started or after set_num_threads call when using native parallel backend (function set_num_threads)\n",
      "[W ParallelNative.cpp:212] Warning: Cannot set number of intraop threads after parallel work has started or after set_num_threads call when using native parallel backend (function set_num_threads)\n"
     ]
    },
    {
     "name": "stdout",
     "output_type": "stream",
     "text": [
      "              precision    recall  f1-score   support\n",
      "\n",
      "    negative       0.92      0.82      0.87       245\n",
      "     neutral       0.79      0.88      0.83       254\n",
      "    positive       0.92      0.91      0.92       289\n",
      "\n",
      "    accuracy                           0.87       788\n",
      "   macro avg       0.88      0.87      0.87       788\n",
      "weighted avg       0.88      0.87      0.88       788\n",
      "\n"
     ]
    },
    {
     "name": "stderr",
     "output_type": "stream",
     "text": [
      "Truncation was not explicitly activated but `max_length` is provided a specific value, please use `truncation=True` to explicitly truncate examples to max length. Defaulting to 'longest_first' truncation strategy. If you encode pairs of sequences (GLUE-style) with the tokenizer you can select this strategy more precisely by providing a specific strategy to `truncation`.\n",
      "Truncation was not explicitly activated but `max_length` is provided a specific value, please use `truncation=True` to explicitly truncate examples to max length. Defaulting to 'longest_first' truncation strategy. If you encode pairs of sequences (GLUE-style) with the tokenizer you can select this strategy more precisely by providing a specific strategy to `truncation`.\n",
      "Truncation was not explicitly activated but `max_length` is provided a specific value, please use `truncation=True` to explicitly truncate examples to max length. Defaulting to 'longest_first' truncation strategy. If you encode pairs of sequences (GLUE-style) with the tokenizer you can select this strategy more precisely by providing a specific strategy to `truncation`.\n",
      "Truncation was not explicitly activated but `max_length` is provided a specific value, please use `truncation=True` to explicitly truncate examples to max length. Defaulting to 'longest_first' truncation strategy. If you encode pairs of sequences (GLUE-style) with the tokenizer you can select this strategy more precisely by providing a specific strategy to `truncation`.\n",
      "[W ParallelNative.cpp:212] Warning: Cannot set number of intraop threads after parallel work has started or after set_num_threads call when using native parallel backend (function set_num_threads)\n",
      "[W ParallelNative.cpp:212] Warning: Cannot set number of intraop threads after parallel work has started or after set_num_threads call when using native parallel backend (function set_num_threads)\n",
      "[W ParallelNative.cpp:212] Warning: Cannot set number of intraop threads after parallel work has started or after set_num_threads call when using native parallel backend (function set_num_threads)\n",
      "[W ParallelNative.cpp:212] Warning: Cannot set number of intraop threads after parallel work has started or after set_num_threads call when using native parallel backend (function set_num_threads)\n"
     ]
    },
    {
     "name": "stdout",
     "output_type": "stream",
     "text": [
      "              precision    recall  f1-score   support\n",
      "\n",
      "    negative       0.93      0.87      0.90       245\n",
      "     neutral       0.83      0.87      0.85       254\n",
      "    positive       0.92      0.94      0.93       289\n",
      "\n",
      "    accuracy                           0.89       788\n",
      "   macro avg       0.90      0.89      0.89       788\n",
      "weighted avg       0.90      0.89      0.89       788\n",
      "\n"
     ]
    }
   ],
   "source": [
    "#ORIGINAL \n",
    "y_review_texts, y_pred, y_pred_probs, y_test = get_predictions(\n",
    "  model,\n",
    "  test_data_loader\n",
    ")\n",
    "print(classification_report(y_test, y_pred, target_names=classes))\n",
    "\n",
    "#COREFERENCE RESOLVED\n",
    "y_review_texts2, y_pred2, y_pred_probs2, y_test2 = get_predictions(\n",
    "  model2,\n",
    "  test_data_loader2\n",
    ")\n",
    "print(classification_report(y_test2, y_pred2, target_names=classes))\n",
    "\n"
   ]
  },
  {
   "cell_type": "markdown",
   "id": "958452c3",
   "metadata": {},
   "source": [
    "The model tuned with CR reviews have higher accuracy and recall as well. \n",
    "Check the confusion matrix below"
   ]
  },
  {
   "cell_type": "code",
   "execution_count": 92,
   "id": "91e7ab4e",
   "metadata": {},
   "outputs": [
    {
     "data": {
      "text/plain": [
       "Text(0.5, 1.0, 'Original Model')"
      ]
     },
     "execution_count": 92,
     "metadata": {},
     "output_type": "execute_result"
    },
    {
     "data": {
      "image/png": "[encoded data removed]",
      "text/plain": [
       "<Figure size 432x288 with 2 Axes>"
      ]
     },
     "metadata": {
      "needs_background": "light"
     },
     "output_type": "display_data"
    }
   ],
   "source": [
    "cm = confusion_matrix(y_test, y_pred)\n",
    "orig_cm = pd.DataFrame(cm, index=classes, columns=classes)\n",
    "\n",
    "hmap = sns.heatmap(orig_cm, annot=True, fmt=\"d\", cmap=\"Blues\")\n",
    "hmap.yaxis.set_ticklabels(hmap.yaxis.get_ticklabels(), rotation=0, ha='right')\n",
    "hmap.xaxis.set_ticklabels(hmap.xaxis.get_ticklabels(), rotation=30, ha='right')\n",
    "plt.ylabel('True sentiment')\n",
    "plt.xlabel('Predicted sentiment');\n",
    "plt.title(\"Original Model\")"
   ]
  },
  {
   "cell_type": "code",
   "execution_count": 93,
   "id": "c66d7731",
   "metadata": {},
   "outputs": [
    {
     "data": {
      "text/plain": [
       "Text(0.5, 1.0, 'Coreference Resolved Model')"
      ]
     },
     "execution_count": 93,
     "metadata": {},
     "output_type": "execute_result"
    },
    {
     "data": {
      "image/png": "[encoded data removed]",
      "text/plain": [
       "<Figure size 432x288 with 2 Axes>"
      ]
     },
     "metadata": {
      "needs_background": "light"
     },
     "output_type": "display_data"
    }
   ],
   "source": [
    "cm2 = confusion_matrix(y_test2, y_pred2)\n",
    "cr_cm = pd.DataFrame(cm2, index=classes, columns=classes)\n",
    "hmap = sns.heatmap(cr_cm, annot=True, fmt=\"d\", cmap=\"Blues\")\n",
    "hmap.yaxis.set_ticklabels(hmap.yaxis.get_ticklabels(), rotation=0, ha='right')\n",
    "hmap.xaxis.set_ticklabels(hmap.xaxis.get_ticklabels(), rotation=30, ha='right')\n",
    "plt.ylabel('True sentiment')\n",
    "plt.xlabel('Predicted sentiment');\n",
    "plt.title(\"Coreference Resolved Model\")"
   ]
  },
  {
   "cell_type": "markdown",
   "id": "53972bf7",
   "metadata": {},
   "source": [
    "The original model misclassified many of negative or positive reviews as netural. CR model had the greatest improvement in that area. "
   ]
  },
  {
   "cell_type": "markdown",
   "id": "65cfea29",
   "metadata": {},
   "source": [
    "# Checking out examples from test set"
   ]
  },
  {
   "cell_type": "code",
   "execution_count": 102,
   "id": "e949f5ba",
   "metadata": {},
   "outputs": [
    {
     "name": "stdout",
     "output_type": "stream",
     "text": [
      "99 Incorrect Predictions on the following data:\n",
      "[0, 4, 11, 20, 44, 66, 81, 96, 102, 103, 115, 123, 124, 135, 137, 141, 162, 167, 183, 184, 194, 209, 210, 216, 224, 236, 239, 255, 258, 276, 283, 286, 306, 321, 326, 339, 340, 343, 358, 360, 363, 366, 371, 377, 381, 387, 389, 406, 409, 411, 421, 427, 429, 430, 431, 433, 447, 457, 458, 461, 465, 475, 481, 483, 494, 498, 499, 505, 522, 528, 543, 544, 548, 565, 577, 579, 585, 603, 610, 616, 628, 644, 656, 675, 677, 680, 688, 710, 712, 720, 731, 732, 755, 756, 765, 770, 775, 778, 784]\n"
     ]
    }
   ],
   "source": [
    "wrong_indices = []\n",
    "for i in range(len(y_test)):\n",
    "    if int(y_pred[i]) != int(y_test[i]):\n",
    "        wrong_indices.append(i)\n",
    "        \n",
    "print(\"Original Model made\", len(wrong_indices), \"Incorrect Predictions on the following data:\")\n",
    "print(wrong_indices)"
   ]
  },
  {
   "cell_type": "code",
   "execution_count": 106,
   "id": "b30c09cd",
   "metadata": {},
   "outputs": [
    {
     "name": "stdout",
     "output_type": "stream",
     "text": [
      "CR Model made 83 Incorrect Predictions on the following data:\n",
      "[4, 20, 39, 44, 66, 71, 91, 102, 115, 123, 137, 141, 148, 162, 177, 183, 184, 194, 216, 220, 227, 235, 239, 264, 276, 286, 306, 321, 323, 326, 331, 340, 358, 360, 363, 366, 377, 381, 387, 389, 394, 406, 409, 411, 427, 429, 430, 431, 447, 457, 458, 461, 475, 479, 483, 505, 528, 543, 548, 565, 569, 577, 596, 603, 610, 628, 644, 652, 655, 675, 677, 680, 686, 710, 720, 727, 731, 732, 739, 755, 770, 775, 778]\n"
     ]
    }
   ],
   "source": [
    "wrong_indices2 = []\n",
    "for i in range(len(y_test2)):\n",
    "    if int(y_pred2[i]) != int(y_test2[i]):\n",
    "        wrong_indices2.append(i)\n",
    "        \n",
    "print(\"CR Model made\", len(wrong_indices2), \"Incorrect Predictions on the following data:\")\n",
    "print(wrong_indices2)"
   ]
  },
  {
   "cell_type": "code",
   "execution_count": 109,
   "id": "19c20960",
   "metadata": {},
   "outputs": [
    {
     "name": "stdout",
     "output_type": "stream",
     "text": [
      "Examples that the orignal model got wrong but the CR model got right:\n",
      "[0, 258, 135, 522, 11, 656, 784, 283, 544, 421, 167, 688, 433, 579, 712, 585, 81, 209, 210, 339, 465, 343, 96, 224, 481, 103, 616, 236, 494, 498, 371, 756, 499, 124, 765, 255]\n",
      "\n",
      "Examples that the CR model got wrong but the original model got right:\n",
      "[264, 394, 652, 655, 148, 39, 686, 177, 569, 323, 71, 331, 596, 727, 91, 220, 479, 227, 739, 235]\n"
     ]
    }
   ],
   "source": [
    "print(\"Examples that the orignal model got wrong but the CR model got right:\")\n",
    "print(list(set(wrong_indices) - set(wrong_indices2)))\n",
    "print(\"\")\n",
    "print(\"Examples that the CR model got wrong but the original model got right:\")\n",
    "print(list(set(wrong_indices2) - set(wrong_indices)))"
   ]
  },
  {
   "cell_type": "markdown",
   "id": "063a383a",
   "metadata": {},
   "source": [
    "Let's take a look at some of the examples that orignal model got wrong but CR model got right"
   ]
  },
  {
   "cell_type": "code",
   "execution_count": 138,
   "id": "812eb8ee",
   "metadata": {},
   "outputs": [
    {
     "name": "stdout",
     "output_type": "stream",
     "text": [
      "I really liked this app, however I have downloaded it yesterday and created tasks which repeats daily but it always shows tasks date 30 March. It was just the date I created it, it repeats daily so the dates should change too. It feels as if I am checking undone tasks from the past. Even in the calander view these tasks are not added to 31 March. It's annoying me. Please do something about it.\n",
      "\tpredicted: netural\n",
      "\tactual: positive\n",
      "\n",
      "I really liked this app, however I have downloaded this app yesterday and created tasks which repeats daily but this app always shows tasks date 30 March. 30 March was just the date I created this app, this app repeats daily so the dates should change too. It feels as if I am checking undone tasks from the past. Even in the calander view tasks which repeats daily are not added to 31 March. It's annoying me. Please do something about it.\n",
      "\tpredicted: positive\n",
      "\tactual: positive\n",
      "------------------------\n",
      "Even though you don't get full access for free, this app still helps you a lot with habits you want to change. It's just an organizing tool to motivate you to keep going. Worth a try!\n",
      "\tpredicted: positive\n",
      "\tactual: netural\n",
      "\n",
      "Even though you don't get full access for free, this app still helps you a lot with habits you want to change. this app's just an organizing tool to motivate you to keep going. Worth a try!\n",
      "\tpredicted: netural\n",
      "\tactual: netural\n",
      "------------------------\n"
     ]
    }
   ],
   "source": [
    "def sentiment(number):\n",
    "    if number == 0:\n",
    "        return \"negative\"\n",
    "    elif number == 1:\n",
    "        return \"netural\"\n",
    "    else:\n",
    "        return \"positive\"\n",
    "    \n",
    "def compare_models(review_index):\n",
    "    print(y_review_texts[review_index])\n",
    "    print(\"\\tpredicted:\", sentiment(y_pred[review_index]))\n",
    "    print(\"\\tactual:\", sentiment(y_test[review_index]))\n",
    "    print(\"\")\n",
    "\n",
    "    print(y_review_texts2[review_index])\n",
    "    print(\"\\tpredicted:\", sentiment(y_pred2[review_index]))\n",
    "    print(\"\\tactual:\", sentiment(y_test2[review_index]))\n",
    "    print(\"------------------------\")\n",
    "compare_models(135)\n",
    "compare_models(96)\n",
    "\n"
   ]
  },
  {
   "cell_type": "markdown",
   "id": "79f9d36e",
   "metadata": {},
   "source": [
    "In both of these examples, the word \"it\" is resolved to the word \"this app\". The object of attention (\"this app\") is referenced acrossed the review in the CR version."
   ]
  },
  {
   "cell_type": "markdown",
   "id": "313e915d",
   "metadata": {},
   "source": [
    "Let's take a look at some of the examples that CR model got wrong but original model got right."
   ]
  },
  {
   "cell_type": "code",
   "execution_count": 141,
   "id": "1cf5b975",
   "metadata": {},
   "outputs": [
    {
     "name": "stdout",
     "output_type": "stream",
     "text": [
      "Drains a heck lot of battery\n",
      "\tpredicted: negative\n",
      "\tactual: negative\n",
      "\n",
      "Drains a heck lot of battery\n",
      "\tpredicted: netural\n",
      "\tactual: negative\n",
      "------------------------\n",
      "i want to love this app but lately after once i open this app, then the second time i want to open it, it just doesnt open i dont know why, so i need to keep uninstall and reinstall back and it annoyed me\n",
      "\tpredicted: negative\n",
      "\tactual: negative\n",
      "\n",
      "i want to love this app but lately after once i open this app, then the second time i want to open this app, this app just doesnt open i dont know why, so i need to keep uninstall and reinstall back and it annoyed me\n",
      "\tpredicted: netural\n",
      "\tactual: negative\n",
      "------------------------\n"
     ]
    }
   ],
   "source": [
    "compare_models(264)\n",
    "compare_models(652)"
   ]
  },
  {
   "cell_type": "markdown",
   "id": "6b418b91",
   "metadata": {},
   "source": [
    "## Conclusion\n",
    "Based on the quantitative results, it is clear the coreference resolved model performed better in all metric. However, there isn't any qualitative interpretation that I can think of that provides a convincing argument. For instance, some of the review examples that had no coreferences to be resolved were predicted differently by the two models. This is an area that I will explore more in the future."
   ]
  },
  {
   "cell_type": "code",
   "execution_count": null,
   "id": "56d4356b",
   "metadata": {},
   "outputs": [],
   "source": []
  }
 ],
 "metadata": {
  "kernelspec": {
   "display_name": "Python 3 (ipykernel)",
   "language": "python",
   "name": "python3"
  },
  "language_info": {
   "codemirror_mode": {
    "name": "ipython",
    "version": 3
   },
   "file_extension": ".py",
   "mimetype": "text/x-python",
   "name": "python",
   "nbconvert_exporter": "python",
   "pygments_lexer": "ipython3",
   "version": "3.7.6"
  }
 },
 "nbformat": 4,
 "nbformat_minor": 5
}
